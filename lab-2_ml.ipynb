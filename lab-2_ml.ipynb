{
  "cells": [
    {
      "cell_type": "code",
      "execution_count": 1,
      "metadata": {
        "ExecuteTime": {
          "end_time": "2020-04-23T10:16:05.965275Z",
          "start_time": "2020-04-23T10:16:05.312704Z"
        },
        "id": "bZ7J0si68JdT"
      },
      "outputs": [],
      "source": [
        "import pandas as pd\n",
        "import numpy as np"
      ]
    },
    {
      "cell_type": "markdown",
      "metadata": {
        "id": "xjvL0IIG8Jd0"
      },
      "source": [
        "## Задание 0\n"
      ]
    },
    {
      "cell_type": "markdown",
      "metadata": {
        "id": "yaSxXHvxO0qo"
      },
      "source": [
        "Для всех  заданий будем использовать обезличенные транзакционные банковские данные. Для этого считайте в переменные **tr_mcc_codes, tr_types, transactions и gender_train** из одноимённых таблиц из папки [data](https://drive.google.com/drive/folders/1YAMe7MiTxA-RSSd8Ex2p-L0Dspe6Gs4L).\n",
        "\n",
        "Для таблицы transactions используйте только первые n=1000000 строк. При чтении файлов обратите внимание на разделители внутри каждого из файлов - они могут различаться!"
      ]
    },
    {
      "cell_type": "code",
      "execution_count": 2,
      "metadata": {},
      "outputs": [],
      "source": [
        "tr_mcc_codes = pd.read_csv('tables/tr_mcc_codes.csv', sep=';')\n",
        "tr_types = pd.read_csv('tables/tr_types.csv', sep=';')\n",
        "transactions = pd.read_csv('tables/transactions.csv', sep=',', nrows=1000000)\n",
        "gender_train = pd.read_csv('tables/gender_train.csv', sep=',')"
      ]
    },
    {
      "cell_type": "markdown",
      "metadata": {
        "id": "oP3lX9xC8Jd8"
      },
      "source": [
        "###  Описание данных\n",
        "#### Таблица ```transactions.csv```\n",
        "##### Описание\n",
        "Таблица содержит историю транзакций клиентов банка за один год и три месяца.\n",
        "\n",
        "##### Формат данных\n",
        "\n",
        "```\n",
        "customer_id,tr_datetime,mcc_code,tr_type,amount,term_id\n",
        "111111,15 01:40:52,1111,1000,-5224,111111\n",
        "111112,15 15:18:32,3333,2000,-100,11122233\n",
        "...\n",
        "```\n",
        "##### Описание полей\n",
        "\n",
        " - ```customer_id``` — идентификатор клиента;\n",
        " - ```tr_datetime``` — день и время совершения транзакции (дни нумеруются с начала данных);\n",
        " - ```mcc_code``` — mcc-код транзакции;\n",
        " - ```tr_type``` — тип транзакции;\n",
        " - ```amount``` — сумма транзакции в условных единицах со знаком; ```+``` — начисление средств клиенту (приходная транзакция), ```-``` — списание средств (расходная транзакция);\n",
        " - ```term_id``` — идентификатор терминала;\n",
        "\n",
        "\n",
        "#### Таблица ```gender_train.csv```\n",
        "\n",
        "##### Описание\n",
        "Данная таблица содержит информацию по полу для части клиентов, для которых он известен. Для остальных клиентов пол неизвестен.\n",
        "\n",
        "##### Формат данных\n",
        "```\n",
        "customer_id,gender\n",
        "111111,0\n",
        "111112,1\n",
        "...\n",
        "```\n",
        "\n",
        "##### Описание полей\n",
        " - ```customer_id``` — идентификатор клиента;\n",
        " - ```gender``` — пол клиента;\n",
        "\n",
        "### Таблица ```tr_mcc_codes.csv```\n",
        "\n",
        "##### Описание\n",
        "Данная таблица содержит описание mcc-кодов транзакций.\n",
        "\n",
        "##### Формат данных\n",
        "```\n",
        "mcc_code;mcc_description\n",
        "1000;словесное описание mcc-кода 1000\n",
        "2000;словесное описание mcc-кода 2000\n",
        "...\n",
        "```\n",
        "\n",
        "##### Описание полей\n",
        " - ```mcc_code``` – mcc-код транзакции;\n",
        " - ```mcc_description``` — описание mcc-кода транзакции.\n",
        "\n",
        "#### Таблица ```tr_types.csv```\n",
        "\n",
        "##### Описание\n",
        "Данная таблица содержит описание типов транзакций.\n",
        "\n",
        "##### Формат данных\n",
        "```\n",
        "tr_type;tr_description\n",
        "1000;словесное описание типа транзакции 1000\n",
        "2000;словесное описание типа транзакции 2000\n",
        "...\n",
        "```\n",
        "\n",
        "##### Описание полей\n",
        " - ```tr_type``` – тип транзакции;\n",
        " - ```tr_description``` — описание типа транзакции;"
      ]
    },
    {
      "cell_type": "markdown",
      "metadata": {
        "id": "04CYsBKz8JeB"
      },
      "source": [
        "\n",
        "Задания 1-4 делаются без использования merge!\n",
        "\n",
        "## Задание 1\n",
        "\n"
      ]
    },
    {
      "cell_type": "markdown",
      "metadata": {
        "id": "1hcrfwsYN_Yz"
      },
      "source": [
        "1. Для столбца tr_type датафрейма transactions выберите произвольные 1000 строк с помощью метода sample\n",
        "2. В полученной на предыдущем этапе подвыборке найдите долю транзакций (стобец tr_description в датасете tr_types), в которой содержится подстрока 'POS' или 'ATM'\n"
      ]
    },
    {
      "cell_type": "code",
      "execution_count": 3,
      "metadata": {},
      "outputs": [
        {
          "data": {
            "text/plain": [
              "0.622"
            ]
          },
          "execution_count": 3,
          "metadata": {},
          "output_type": "execute_result"
        }
      ],
      "source": [
        "x = transactions.tr_type.sample(n=1000)\n",
        "x[x.isin(tr_types[tr_types.tr_description.str.contains('POS|АТМ')].tr_type)].count() / 1000"
      ]
    },
    {
      "cell_type": "markdown",
      "metadata": {
        "id": "fiZBDIZt8JeS"
      },
      "source": [
        "## Задание 2\n"
      ]
    },
    {
      "cell_type": "markdown",
      "metadata": {
        "id": "FFKeBUThOCrz"
      },
      "source": [
        "1. Для столбца tr_type датафрейма transactions посчитайте частоту встречаемости всех типов транзакций tr_type в transactions.\n",
        "2. Выведите топ-10 транзакций по частоте встречаемости (вывести для них tr_description тоже)."
      ]
    },
    {
      "cell_type": "code",
      "execution_count": 4,
      "metadata": {},
      "outputs": [
        {
          "data": {
            "text/html": [
              "<div>\n",
              "<style scoped>\n",
              "    .dataframe tbody tr th:only-of-type {\n",
              "        vertical-align: middle;\n",
              "    }\n",
              "\n",
              "    .dataframe tbody tr th {\n",
              "        vertical-align: top;\n",
              "    }\n",
              "\n",
              "    .dataframe thead th {\n",
              "        text-align: right;\n",
              "    }\n",
              "</style>\n",
              "<table border=\"1\" class=\"dataframe\">\n",
              "  <thead>\n",
              "    <tr style=\"text-align: right;\">\n",
              "      <th></th>\n",
              "      <th>count</th>\n",
              "      <th>tr_type</th>\n",
              "      <th>tr_description</th>\n",
              "    </tr>\n",
              "  </thead>\n",
              "  <tbody>\n",
              "    <tr>\n",
              "      <th>0</th>\n",
              "      <td>231117</td>\n",
              "      <td>1010</td>\n",
              "      <td>Покупка. POS ТУ СБ РФ</td>\n",
              "    </tr>\n",
              "    <tr>\n",
              "      <th>1</th>\n",
              "      <td>151166</td>\n",
              "      <td>2010</td>\n",
              "      <td>Выдача наличных в АТМ Сбербанк России</td>\n",
              "    </tr>\n",
              "    <tr>\n",
              "      <th>2</th>\n",
              "      <td>149006</td>\n",
              "      <td>7070</td>\n",
              "      <td>Перевод на карту (с карты) через Мобильный бан...</td>\n",
              "    </tr>\n",
              "    <tr>\n",
              "      <th>3</th>\n",
              "      <td>137658</td>\n",
              "      <td>1110</td>\n",
              "      <td>Покупка. POS ТУ Россия</td>\n",
              "    </tr>\n",
              "    <tr>\n",
              "      <th>4</th>\n",
              "      <td>118975</td>\n",
              "      <td>1030</td>\n",
              "      <td>Оплата услуги. Банкоматы СБ РФ</td>\n",
              "    </tr>\n",
              "    <tr>\n",
              "      <th>5</th>\n",
              "      <td>49830</td>\n",
              "      <td>2370</td>\n",
              "      <td>Списание с карты на карту по операции &lt;перевод...</td>\n",
              "    </tr>\n",
              "    <tr>\n",
              "      <th>6</th>\n",
              "      <td>28972</td>\n",
              "      <td>7010</td>\n",
              "      <td>Взнос наличных через АТМ (в своем тер.банке)</td>\n",
              "    </tr>\n",
              "    <tr>\n",
              "      <th>7</th>\n",
              "      <td>26078</td>\n",
              "      <td>7030</td>\n",
              "      <td>Перевод на карту (с карты) через АТМ (в предел...</td>\n",
              "    </tr>\n",
              "    <tr>\n",
              "      <th>8</th>\n",
              "      <td>15781</td>\n",
              "      <td>7071</td>\n",
              "      <td>Перевод на карту (с карты) через Мобильный бан...</td>\n",
              "    </tr>\n",
              "    <tr>\n",
              "      <th>9</th>\n",
              "      <td>15476</td>\n",
              "      <td>1100</td>\n",
              "      <td>Покупка. ТУ  Россия</td>\n",
              "    </tr>\n",
              "  </tbody>\n",
              "</table>\n",
              "</div>"
            ],
            "text/plain": [
              "    count  tr_type                                     tr_description\n",
              "0  231117     1010                              Покупка. POS ТУ СБ РФ\n",
              "1  151166     2010              Выдача наличных в АТМ Сбербанк России\n",
              "2  149006     7070  Перевод на карту (с карты) через Мобильный бан...\n",
              "3  137658     1110                             Покупка. POS ТУ Россия\n",
              "4  118975     1030                     Оплата услуги. Банкоматы СБ РФ\n",
              "5   49830     2370  Списание с карты на карту по операции <перевод...\n",
              "6   28972     7010       Взнос наличных через АТМ (в своем тер.банке)\n",
              "7   26078     7030  Перевод на карту (с карты) через АТМ (в предел...\n",
              "8   15781     7071  Перевод на карту (с карты) через Мобильный бан...\n",
              "9   15476     1100                                Покупка. ТУ  Россия"
            ]
          },
          "execution_count": 4,
          "metadata": {},
          "output_type": "execute_result"
        }
      ],
      "source": [
        "x = transactions.tr_type.value_counts().sort_values(ascending=False)\n",
        "res = pd.DataFrame({\n",
        "    'count' : x.iloc[:10].values,\n",
        "    'tr_type' : x.iloc[:10].index,\n",
        "    'tr_description' : tr_types.set_index('tr_type').loc[x.iloc[:10].index].reset_index().tr_description\n",
        "})\n",
        "res"
      ]
    },
    {
      "cell_type": "markdown",
      "metadata": {
        "id": "mktm_JeA8JeX"
      },
      "source": [
        "## Задание 3\n",
        "1. В датафрейме transactions найдите клиента с максимальной суммой приходов на карту\n",
        "2. В датафрейме transactions найдите клиента с максимальной суммой расходов по карте\n",
        "3. Найдите модуль разницы для этих клиентов между суммой расходов и суммой приходов"
      ]
    },
    {
      "cell_type": "code",
      "execution_count": 5,
      "metadata": {},
      "outputs": [
        {
          "name": "stdout",
          "output_type": "stream",
          "text": [
            "Max income diff:\n",
            "customer_id\n",
            "70780820    1837317.98\n",
            "dtype: float64\n",
            "\n",
            "Max expenses diff:\n",
            "customer_id\n",
            "70780820    1837317.98\n",
            "dtype: float64\n"
          ]
        }
      ],
      "source": [
        "cust_tr = transactions.groupby('customer_id').amount.agg([('expenses' , lambda x : x[x < 0].sum()) , ('income' , lambda x : x[x > 0].sum())])\n",
        "rich_cust = cust_tr[cust_tr.income == cust_tr.income.max()]\n",
        "poor_cust = cust_tr[cust_tr.expenses == cust_tr.expenses.min()]\n",
        "print(f'Max income diff:\\n{abs(rich_cust.income + rich_cust.expenses)}\\n\\nMax expenses diff:\\n{abs(poor_cust.income + poor_cust.expenses)}')"
      ]
    },
    {
      "cell_type": "markdown",
      "metadata": {
        "id": "BYrJ5b_E8Jee"
      },
      "source": [
        "## Задание 4\n",
        "1. Найдите среднее арифметическое и медиану по amount по всем типам транзакций из топ 10 из задания 2\n",
        "1. Найдите среднее арифметическое и медиану по amount по всем типам транзакций для клиентов из задания 3"
      ]
    },
    {
      "cell_type": "code",
      "execution_count": 6,
      "metadata": {},
      "outputs": [
        {
          "data": {
            "text/html": [
              "<div>\n",
              "<style scoped>\n",
              "    .dataframe tbody tr th:only-of-type {\n",
              "        vertical-align: middle;\n",
              "    }\n",
              "\n",
              "    .dataframe tbody tr th {\n",
              "        vertical-align: top;\n",
              "    }\n",
              "\n",
              "    .dataframe thead th {\n",
              "        text-align: right;\n",
              "    }\n",
              "</style>\n",
              "<table border=\"1\" class=\"dataframe\">\n",
              "  <thead>\n",
              "    <tr style=\"text-align: right;\">\n",
              "      <th></th>\n",
              "      <th>mean</th>\n",
              "      <th>median</th>\n",
              "    </tr>\n",
              "    <tr>\n",
              "      <th>tr_type</th>\n",
              "      <th></th>\n",
              "      <th></th>\n",
              "    </tr>\n",
              "  </thead>\n",
              "  <tbody>\n",
              "    <tr>\n",
              "      <th>1010</th>\n",
              "      <td>-19784.748640</td>\n",
              "      <td>-7411.52</td>\n",
              "    </tr>\n",
              "    <tr>\n",
              "      <th>1030</th>\n",
              "      <td>-5320.980222</td>\n",
              "      <td>-2245.92</td>\n",
              "    </tr>\n",
              "    <tr>\n",
              "      <th>1100</th>\n",
              "      <td>-44061.827262</td>\n",
              "      <td>-10188.26</td>\n",
              "    </tr>\n",
              "    <tr>\n",
              "      <th>1110</th>\n",
              "      <td>-32119.330371</td>\n",
              "      <td>-11207.57</td>\n",
              "    </tr>\n",
              "    <tr>\n",
              "      <th>2010</th>\n",
              "      <td>-136077.629325</td>\n",
              "      <td>-44918.32</td>\n",
              "    </tr>\n",
              "    <tr>\n",
              "      <th>2370</th>\n",
              "      <td>-205418.249032</td>\n",
              "      <td>-44918.32</td>\n",
              "    </tr>\n",
              "    <tr>\n",
              "      <th>7010</th>\n",
              "      <td>276391.789596</td>\n",
              "      <td>112295.79</td>\n",
              "    </tr>\n",
              "    <tr>\n",
              "      <th>7030</th>\n",
              "      <td>86104.332909</td>\n",
              "      <td>13951.52</td>\n",
              "    </tr>\n",
              "    <tr>\n",
              "      <th>7070</th>\n",
              "      <td>65569.831700</td>\n",
              "      <td>11319.42</td>\n",
              "    </tr>\n",
              "    <tr>\n",
              "      <th>7071</th>\n",
              "      <td>66806.826623</td>\n",
              "      <td>3593.47</td>\n",
              "    </tr>\n",
              "  </tbody>\n",
              "</table>\n",
              "</div>"
            ],
            "text/plain": [
              "                  mean     median\n",
              "tr_type                          \n",
              "1010     -19784.748640   -7411.52\n",
              "1030      -5320.980222   -2245.92\n",
              "1100     -44061.827262  -10188.26\n",
              "1110     -32119.330371  -11207.57\n",
              "2010    -136077.629325  -44918.32\n",
              "2370    -205418.249032  -44918.32\n",
              "7010     276391.789596  112295.79\n",
              "7030      86104.332909   13951.52\n",
              "7070      65569.831700   11319.42\n",
              "7071      66806.826623    3593.47"
            ]
          },
          "execution_count": 6,
          "metadata": {},
          "output_type": "execute_result"
        }
      ],
      "source": [
        "tr_groups = transactions[transactions.tr_type.isin(res.tr_type)].groupby('tr_type').amount\n",
        "res_t1 = pd.DataFrame({\n",
        "    'mean' : tr_groups.mean(),\n",
        "    'median' : tr_groups.median()\n",
        "})\n",
        "res_t1"
      ]
    },
    {
      "cell_type": "code",
      "execution_count": 63,
      "metadata": {},
      "outputs": [
        {
          "data": {
            "text/html": [
              "<div>\n",
              "<style scoped>\n",
              "    .dataframe tbody tr th:only-of-type {\n",
              "        vertical-align: middle;\n",
              "    }\n",
              "\n",
              "    .dataframe tbody tr th {\n",
              "        vertical-align: top;\n",
              "    }\n",
              "\n",
              "    .dataframe thead th {\n",
              "        text-align: right;\n",
              "    }\n",
              "</style>\n",
              "<table border=\"1\" class=\"dataframe\">\n",
              "  <thead>\n",
              "    <tr style=\"text-align: right;\">\n",
              "      <th></th>\n",
              "      <th>mean</th>\n",
              "      <th>median</th>\n",
              "    </tr>\n",
              "    <tr>\n",
              "      <th>tr_type</th>\n",
              "      <th></th>\n",
              "      <th></th>\n",
              "    </tr>\n",
              "  </thead>\n",
              "  <tbody>\n",
              "    <tr>\n",
              "      <th>1000</th>\n",
              "      <td>0.000000</td>\n",
              "      <td>0.00</td>\n",
              "    </tr>\n",
              "    <tr>\n",
              "      <th>1010</th>\n",
              "      <td>0.000000</td>\n",
              "      <td>0.00</td>\n",
              "    </tr>\n",
              "    <tr>\n",
              "      <th>1030</th>\n",
              "      <td>0.000000</td>\n",
              "      <td>0.00</td>\n",
              "    </tr>\n",
              "    <tr>\n",
              "      <th>1100</th>\n",
              "      <td>0.000000</td>\n",
              "      <td>0.00</td>\n",
              "    </tr>\n",
              "    <tr>\n",
              "      <th>1110</th>\n",
              "      <td>0.000000</td>\n",
              "      <td>0.00</td>\n",
              "    </tr>\n",
              "    <tr>\n",
              "      <th>...</th>\n",
              "      <td>...</td>\n",
              "      <td>...</td>\n",
              "    </tr>\n",
              "    <tr>\n",
              "      <th>7074</th>\n",
              "      <td>22811.593077</td>\n",
              "      <td>9387.93</td>\n",
              "    </tr>\n",
              "    <tr>\n",
              "      <th>7075</th>\n",
              "      <td>0.000000</td>\n",
              "      <td>0.00</td>\n",
              "    </tr>\n",
              "    <tr>\n",
              "      <th>8100</th>\n",
              "      <td>0.000000</td>\n",
              "      <td>0.00</td>\n",
              "    </tr>\n",
              "    <tr>\n",
              "      <th>8145</th>\n",
              "      <td>0.000000</td>\n",
              "      <td>0.00</td>\n",
              "    </tr>\n",
              "    <tr>\n",
              "      <th>8146</th>\n",
              "      <td>0.000000</td>\n",
              "      <td>0.00</td>\n",
              "    </tr>\n",
              "  </tbody>\n",
              "</table>\n",
              "<p>72 rows × 2 columns</p>\n",
              "</div>"
            ],
            "text/plain": [
              "                 mean   median\n",
              "tr_type                       \n",
              "1000         0.000000     0.00\n",
              "1010         0.000000     0.00\n",
              "1030         0.000000     0.00\n",
              "1100         0.000000     0.00\n",
              "1110         0.000000     0.00\n",
              "...               ...      ...\n",
              "7074     22811.593077  9387.93\n",
              "7075         0.000000     0.00\n",
              "8100         0.000000     0.00\n",
              "8145         0.000000     0.00\n",
              "8146         0.000000     0.00\n",
              "\n",
              "[72 rows x 2 columns]"
            ]
          },
          "execution_count": 63,
          "metadata": {},
          "output_type": "execute_result"
        }
      ],
      "source": [
        "tr_groups_rich = transactions.groupby('tr_type')\n",
        "res_t2 = pd.DataFrame({\n",
        "    'mean' : tr_groups_rich.apply(lambda x: (x[x.customer_id == rich_cust.index[0]]).amount.mean()).fillna(0),\n",
        "    'median' : tr_groups_rich.apply(lambda x: (x[x.customer_id == rich_cust.index[0]]).amount.median()).fillna(0)\n",
        "})\n",
        "res_t2"
      ]
    },
    {
      "cell_type": "code",
      "execution_count": 19,
      "metadata": {},
      "outputs": [
        {
          "data": {
            "text/html": [
              "<div>\n",
              "<style scoped>\n",
              "    .dataframe tbody tr th:only-of-type {\n",
              "        vertical-align: middle;\n",
              "    }\n",
              "\n",
              "    .dataframe tbody tr th {\n",
              "        vertical-align: top;\n",
              "    }\n",
              "\n",
              "    .dataframe thead th {\n",
              "        text-align: right;\n",
              "    }\n",
              "</style>\n",
              "<table border=\"1\" class=\"dataframe\">\n",
              "  <thead>\n",
              "    <tr style=\"text-align: right;\">\n",
              "      <th></th>\n",
              "      <th>mean</th>\n",
              "      <th>median</th>\n",
              "    </tr>\n",
              "    <tr>\n",
              "      <th>tr_type</th>\n",
              "      <th></th>\n",
              "      <th></th>\n",
              "    </tr>\n",
              "  </thead>\n",
              "  <tbody>\n",
              "    <tr>\n",
              "      <th>2010</th>\n",
              "      <td>-2.941056e+06</td>\n",
              "      <td>-3368873.660</td>\n",
              "    </tr>\n",
              "    <tr>\n",
              "      <th>2330</th>\n",
              "      <td>-2.382398e+06</td>\n",
              "      <td>-2245915.770</td>\n",
              "    </tr>\n",
              "    <tr>\n",
              "      <th>2370</th>\n",
              "      <td>-2.218505e+06</td>\n",
              "      <td>-2245915.770</td>\n",
              "    </tr>\n",
              "    <tr>\n",
              "      <th>6110</th>\n",
              "      <td>1.756293e+04</td>\n",
              "      <td>10028.010</td>\n",
              "    </tr>\n",
              "    <tr>\n",
              "      <th>7020</th>\n",
              "      <td>1.465129e+04</td>\n",
              "      <td>10319.985</td>\n",
              "    </tr>\n",
              "    <tr>\n",
              "      <th>7021</th>\n",
              "      <td>2.850067e+04</td>\n",
              "      <td>28500.670</td>\n",
              "    </tr>\n",
              "    <tr>\n",
              "      <th>7030</th>\n",
              "      <td>1.406196e+04</td>\n",
              "      <td>8848.910</td>\n",
              "    </tr>\n",
              "    <tr>\n",
              "      <th>7031</th>\n",
              "      <td>1.921036e+04</td>\n",
              "      <td>12992.620</td>\n",
              "    </tr>\n",
              "    <tr>\n",
              "      <th>7034</th>\n",
              "      <td>1.430648e+04</td>\n",
              "      <td>14306.480</td>\n",
              "    </tr>\n",
              "    <tr>\n",
              "      <th>7040</th>\n",
              "      <td>2.153833e+04</td>\n",
              "      <td>14396.320</td>\n",
              "    </tr>\n",
              "    <tr>\n",
              "      <th>7070</th>\n",
              "      <td>1.384821e+04</td>\n",
              "      <td>8714.150</td>\n",
              "    </tr>\n",
              "    <tr>\n",
              "      <th>7071</th>\n",
              "      <td>1.860057e+04</td>\n",
              "      <td>12543.440</td>\n",
              "    </tr>\n",
              "    <tr>\n",
              "      <th>7074</th>\n",
              "      <td>2.281159e+04</td>\n",
              "      <td>9387.930</td>\n",
              "    </tr>\n",
              "  </tbody>\n",
              "</table>\n",
              "</div>"
            ],
            "text/plain": [
              "                 mean       median\n",
              "tr_type                           \n",
              "2010    -2.941056e+06 -3368873.660\n",
              "2330    -2.382398e+06 -2245915.770\n",
              "2370    -2.218505e+06 -2245915.770\n",
              "6110     1.756293e+04    10028.010\n",
              "7020     1.465129e+04    10319.985\n",
              "7021     2.850067e+04    28500.670\n",
              "7030     1.406196e+04     8848.910\n",
              "7031     1.921036e+04    12992.620\n",
              "7034     1.430648e+04    14306.480\n",
              "7040     2.153833e+04    14396.320\n",
              "7070     1.384821e+04     8714.150\n",
              "7071     1.860057e+04    12543.440\n",
              "7074     2.281159e+04     9387.930"
            ]
          },
          "execution_count": 19,
          "metadata": {},
          "output_type": "execute_result"
        }
      ],
      "source": [
        "tr_groups_rich = transactions[transactions.customer_id == rich_cust.index[0]].groupby('tr_type').amount\n",
        "res_t2 = pd.DataFrame({\n",
        "    'mean' : tr_groups_rich.mean(),\n",
        "    'median' : tr_groups_rich.median()\n",
        "})\n",
        "res_t2"
      ]
    },
    {
      "cell_type": "code",
      "execution_count": 64,
      "metadata": {},
      "outputs": [
        {
          "data": {
            "text/html": [
              "<div>\n",
              "<style scoped>\n",
              "    .dataframe tbody tr th:only-of-type {\n",
              "        vertical-align: middle;\n",
              "    }\n",
              "\n",
              "    .dataframe tbody tr th {\n",
              "        vertical-align: top;\n",
              "    }\n",
              "\n",
              "    .dataframe thead th {\n",
              "        text-align: right;\n",
              "    }\n",
              "</style>\n",
              "<table border=\"1\" class=\"dataframe\">\n",
              "  <thead>\n",
              "    <tr style=\"text-align: right;\">\n",
              "      <th></th>\n",
              "      <th>mean</th>\n",
              "      <th>median</th>\n",
              "    </tr>\n",
              "    <tr>\n",
              "      <th>tr_type</th>\n",
              "      <th></th>\n",
              "      <th></th>\n",
              "    </tr>\n",
              "  </thead>\n",
              "  <tbody>\n",
              "    <tr>\n",
              "      <th>1000</th>\n",
              "      <td>0.000000</td>\n",
              "      <td>0.00</td>\n",
              "    </tr>\n",
              "    <tr>\n",
              "      <th>1010</th>\n",
              "      <td>0.000000</td>\n",
              "      <td>0.00</td>\n",
              "    </tr>\n",
              "    <tr>\n",
              "      <th>1030</th>\n",
              "      <td>0.000000</td>\n",
              "      <td>0.00</td>\n",
              "    </tr>\n",
              "    <tr>\n",
              "      <th>1100</th>\n",
              "      <td>0.000000</td>\n",
              "      <td>0.00</td>\n",
              "    </tr>\n",
              "    <tr>\n",
              "      <th>1110</th>\n",
              "      <td>0.000000</td>\n",
              "      <td>0.00</td>\n",
              "    </tr>\n",
              "    <tr>\n",
              "      <th>...</th>\n",
              "      <td>...</td>\n",
              "      <td>...</td>\n",
              "    </tr>\n",
              "    <tr>\n",
              "      <th>7074</th>\n",
              "      <td>22811.593077</td>\n",
              "      <td>9387.93</td>\n",
              "    </tr>\n",
              "    <tr>\n",
              "      <th>7075</th>\n",
              "      <td>0.000000</td>\n",
              "      <td>0.00</td>\n",
              "    </tr>\n",
              "    <tr>\n",
              "      <th>8100</th>\n",
              "      <td>0.000000</td>\n",
              "      <td>0.00</td>\n",
              "    </tr>\n",
              "    <tr>\n",
              "      <th>8145</th>\n",
              "      <td>0.000000</td>\n",
              "      <td>0.00</td>\n",
              "    </tr>\n",
              "    <tr>\n",
              "      <th>8146</th>\n",
              "      <td>0.000000</td>\n",
              "      <td>0.00</td>\n",
              "    </tr>\n",
              "  </tbody>\n",
              "</table>\n",
              "<p>72 rows × 2 columns</p>\n",
              "</div>"
            ],
            "text/plain": [
              "                 mean   median\n",
              "tr_type                       \n",
              "1000         0.000000     0.00\n",
              "1010         0.000000     0.00\n",
              "1030         0.000000     0.00\n",
              "1100         0.000000     0.00\n",
              "1110         0.000000     0.00\n",
              "...               ...      ...\n",
              "7074     22811.593077  9387.93\n",
              "7075         0.000000     0.00\n",
              "8100         0.000000     0.00\n",
              "8145         0.000000     0.00\n",
              "8146         0.000000     0.00\n",
              "\n",
              "[72 rows x 2 columns]"
            ]
          },
          "execution_count": 64,
          "metadata": {},
          "output_type": "execute_result"
        }
      ],
      "source": [
        "tr_groups_poor = transactions.groupby('tr_type')\n",
        "res_t2 = pd.DataFrame({\n",
        "    'mean' : tr_groups_poor.apply(lambda x: (x[x.customer_id == poor_cust.index[0]]).amount.mean()).fillna(0),\n",
        "    'median' : tr_groups_poor.apply(lambda x: (x[x.customer_id == poor_cust.index[0]]).amount.median()).fillna(0)\n",
        "})\n",
        "res_t2"
      ]
    },
    {
      "cell_type": "code",
      "execution_count": 8,
      "metadata": {},
      "outputs": [
        {
          "data": {
            "text/html": [
              "<div>\n",
              "<style scoped>\n",
              "    .dataframe tbody tr th:only-of-type {\n",
              "        vertical-align: middle;\n",
              "    }\n",
              "\n",
              "    .dataframe tbody tr th {\n",
              "        vertical-align: top;\n",
              "    }\n",
              "\n",
              "    .dataframe thead th {\n",
              "        text-align: right;\n",
              "    }\n",
              "</style>\n",
              "<table border=\"1\" class=\"dataframe\">\n",
              "  <thead>\n",
              "    <tr style=\"text-align: right;\">\n",
              "      <th></th>\n",
              "      <th>mean</th>\n",
              "      <th>median</th>\n",
              "    </tr>\n",
              "    <tr>\n",
              "      <th>tr_type</th>\n",
              "      <th></th>\n",
              "      <th></th>\n",
              "    </tr>\n",
              "  </thead>\n",
              "  <tbody>\n",
              "    <tr>\n",
              "      <th>2010</th>\n",
              "      <td>-2.941056e+06</td>\n",
              "      <td>-3368873.660</td>\n",
              "    </tr>\n",
              "    <tr>\n",
              "      <th>2330</th>\n",
              "      <td>-2.382398e+06</td>\n",
              "      <td>-2245915.770</td>\n",
              "    </tr>\n",
              "    <tr>\n",
              "      <th>2370</th>\n",
              "      <td>-2.218505e+06</td>\n",
              "      <td>-2245915.770</td>\n",
              "    </tr>\n",
              "    <tr>\n",
              "      <th>6110</th>\n",
              "      <td>1.756293e+04</td>\n",
              "      <td>10028.010</td>\n",
              "    </tr>\n",
              "    <tr>\n",
              "      <th>7020</th>\n",
              "      <td>1.465129e+04</td>\n",
              "      <td>10319.985</td>\n",
              "    </tr>\n",
              "    <tr>\n",
              "      <th>7021</th>\n",
              "      <td>2.850067e+04</td>\n",
              "      <td>28500.670</td>\n",
              "    </tr>\n",
              "    <tr>\n",
              "      <th>7030</th>\n",
              "      <td>1.406196e+04</td>\n",
              "      <td>8848.910</td>\n",
              "    </tr>\n",
              "    <tr>\n",
              "      <th>7031</th>\n",
              "      <td>1.921036e+04</td>\n",
              "      <td>12992.620</td>\n",
              "    </tr>\n",
              "    <tr>\n",
              "      <th>7034</th>\n",
              "      <td>1.430648e+04</td>\n",
              "      <td>14306.480</td>\n",
              "    </tr>\n",
              "    <tr>\n",
              "      <th>7040</th>\n",
              "      <td>2.153833e+04</td>\n",
              "      <td>14396.320</td>\n",
              "    </tr>\n",
              "    <tr>\n",
              "      <th>7070</th>\n",
              "      <td>1.384821e+04</td>\n",
              "      <td>8714.150</td>\n",
              "    </tr>\n",
              "    <tr>\n",
              "      <th>7071</th>\n",
              "      <td>1.860057e+04</td>\n",
              "      <td>12543.440</td>\n",
              "    </tr>\n",
              "    <tr>\n",
              "      <th>7074</th>\n",
              "      <td>2.281159e+04</td>\n",
              "      <td>9387.930</td>\n",
              "    </tr>\n",
              "  </tbody>\n",
              "</table>\n",
              "</div>"
            ],
            "text/plain": [
              "                 mean       median\n",
              "tr_type                           \n",
              "2010    -2.941056e+06 -3368873.660\n",
              "2330    -2.382398e+06 -2245915.770\n",
              "2370    -2.218505e+06 -2245915.770\n",
              "6110     1.756293e+04    10028.010\n",
              "7020     1.465129e+04    10319.985\n",
              "7021     2.850067e+04    28500.670\n",
              "7030     1.406196e+04     8848.910\n",
              "7031     1.921036e+04    12992.620\n",
              "7034     1.430648e+04    14306.480\n",
              "7040     2.153833e+04    14396.320\n",
              "7070     1.384821e+04     8714.150\n",
              "7071     1.860057e+04    12543.440\n",
              "7074     2.281159e+04     9387.930"
            ]
          },
          "execution_count": 8,
          "metadata": {},
          "output_type": "execute_result"
        }
      ],
      "source": [
        "tr_groups_poor = transactions[transactions.customer_id == poor_cust.index[0]].groupby('tr_type').amount\n",
        "res_t2 = pd.DataFrame({\n",
        "    'mean' : tr_groups_poor.mean(),\n",
        "    'median' : tr_groups_poor.median()\n",
        "})\n",
        "res_t2"
      ]
    },
    {
      "cell_type": "markdown",
      "metadata": {
        "id": "BYXwM4l3QDBu"
      },
      "source": [
        "## Подготовка для заданий 5-8"
      ]
    },
    {
      "cell_type": "markdown",
      "metadata": {
        "id": "XWQzFeKcQHRe"
      },
      "source": [
        "*Из заданий 5-8 нужно выполнить минимум два любых*\n",
        "\n",
        "Соедините transactions с всеми остальными таблицами (tr_mcc_codes, tr_types, gender_train). Причём с gender_train необходимо смёрджиться с помощью left join, а с оставшимися датафреймами - через inner.\n",
        "После получения результата таблицы gender_train, tr_types, tr_mcc_codes можно удалить. В результате соединения датафреймов должно получиться 999584 строки."
      ]
    },
    {
      "cell_type": "code",
      "execution_count": 9,
      "metadata": {
        "id": "sndJxjJ7QQf5"
      },
      "outputs": [
        {
          "data": {
            "text/plain": [
              "(999584, 9)"
            ]
          },
          "execution_count": 9,
          "metadata": {},
          "output_type": "execute_result"
        }
      ],
      "source": [
        "transactions_full = pd.merge(transactions, gender_train, how='left')\n",
        "transactions_full = pd.merge(transactions_full, tr_mcc_codes, how='inner')\n",
        "transactions_full = pd.merge(transactions_full, tr_types, how='inner')\n",
        "transactions_full.shape"
      ]
    },
    {
      "cell_type": "code",
      "execution_count": 10,
      "metadata": {},
      "outputs": [
        {
          "data": {
            "text/html": [
              "<div>\n",
              "<style scoped>\n",
              "    .dataframe tbody tr th:only-of-type {\n",
              "        vertical-align: middle;\n",
              "    }\n",
              "\n",
              "    .dataframe tbody tr th {\n",
              "        vertical-align: top;\n",
              "    }\n",
              "\n",
              "    .dataframe thead th {\n",
              "        text-align: right;\n",
              "    }\n",
              "</style>\n",
              "<table border=\"1\" class=\"dataframe\">\n",
              "  <thead>\n",
              "    <tr style=\"text-align: right;\">\n",
              "      <th></th>\n",
              "      <th>customer_id</th>\n",
              "      <th>tr_datetime</th>\n",
              "      <th>mcc_code</th>\n",
              "      <th>tr_type</th>\n",
              "      <th>amount</th>\n",
              "      <th>term_id</th>\n",
              "      <th>gender</th>\n",
              "      <th>mcc_description</th>\n",
              "      <th>tr_description</th>\n",
              "    </tr>\n",
              "  </thead>\n",
              "  <tbody>\n",
              "    <tr>\n",
              "      <th>0</th>\n",
              "      <td>39026145</td>\n",
              "      <td>0 10:23:26</td>\n",
              "      <td>4814</td>\n",
              "      <td>1030</td>\n",
              "      <td>-2245.92</td>\n",
              "      <td>NaN</td>\n",
              "      <td>1.0</td>\n",
              "      <td>Звонки с использованием телефонов, считывающих...</td>\n",
              "      <td>Оплата услуги. Банкоматы СБ РФ</td>\n",
              "    </tr>\n",
              "    <tr>\n",
              "      <th>1</th>\n",
              "      <td>39026145</td>\n",
              "      <td>6 07:08:31</td>\n",
              "      <td>4814</td>\n",
              "      <td>1030</td>\n",
              "      <td>-5614.79</td>\n",
              "      <td>NaN</td>\n",
              "      <td>1.0</td>\n",
              "      <td>Звонки с использованием телефонов, считывающих...</td>\n",
              "      <td>Оплата услуги. Банкоматы СБ РФ</td>\n",
              "    </tr>\n",
              "    <tr>\n",
              "      <th>2</th>\n",
              "      <td>39026145</td>\n",
              "      <td>8 07:06:10</td>\n",
              "      <td>4814</td>\n",
              "      <td>1030</td>\n",
              "      <td>-1122.96</td>\n",
              "      <td>NaN</td>\n",
              "      <td>1.0</td>\n",
              "      <td>Звонки с использованием телефонов, считывающих...</td>\n",
              "      <td>Оплата услуги. Банкоматы СБ РФ</td>\n",
              "    </tr>\n",
              "    <tr>\n",
              "      <th>3</th>\n",
              "      <td>39026145</td>\n",
              "      <td>11 08:49:03</td>\n",
              "      <td>4814</td>\n",
              "      <td>1030</td>\n",
              "      <td>-2245.92</td>\n",
              "      <td>NaN</td>\n",
              "      <td>1.0</td>\n",
              "      <td>Звонки с использованием телефонов, считывающих...</td>\n",
              "      <td>Оплата услуги. Банкоматы СБ РФ</td>\n",
              "    </tr>\n",
              "    <tr>\n",
              "      <th>4</th>\n",
              "      <td>39026145</td>\n",
              "      <td>11 14:12:08</td>\n",
              "      <td>4814</td>\n",
              "      <td>1030</td>\n",
              "      <td>-2245.92</td>\n",
              "      <td>NaN</td>\n",
              "      <td>1.0</td>\n",
              "      <td>Звонки с использованием телефонов, считывающих...</td>\n",
              "      <td>Оплата услуги. Банкоматы СБ РФ</td>\n",
              "    </tr>\n",
              "    <tr>\n",
              "      <th>...</th>\n",
              "      <td>...</td>\n",
              "      <td>...</td>\n",
              "      <td>...</td>\n",
              "      <td>...</td>\n",
              "      <td>...</td>\n",
              "      <td>...</td>\n",
              "      <td>...</td>\n",
              "      <td>...</td>\n",
              "      <td>...</td>\n",
              "    </tr>\n",
              "    <tr>\n",
              "      <th>999579</th>\n",
              "      <td>36837532</td>\n",
              "      <td>18 23:38:60</td>\n",
              "      <td>3000</td>\n",
              "      <td>6000</td>\n",
              "      <td>1297824.89</td>\n",
              "      <td>NaN</td>\n",
              "      <td>NaN</td>\n",
              "      <td>Авиалинии, авиакомпании</td>\n",
              "      <td>Возврат  покупки. ТУ СБ РФ</td>\n",
              "    </tr>\n",
              "    <tr>\n",
              "      <th>999580</th>\n",
              "      <td>6808459</td>\n",
              "      <td>206 19:00:10</td>\n",
              "      <td>3000</td>\n",
              "      <td>6000</td>\n",
              "      <td>124693.24</td>\n",
              "      <td>NaN</td>\n",
              "      <td>NaN</td>\n",
              "      <td>Авиалинии, авиакомпании</td>\n",
              "      <td>Возврат  покупки. ТУ СБ РФ</td>\n",
              "    </tr>\n",
              "    <tr>\n",
              "      <th>999581</th>\n",
              "      <td>83759123</td>\n",
              "      <td>90 22:40:57</td>\n",
              "      <td>3000</td>\n",
              "      <td>6000</td>\n",
              "      <td>218976.79</td>\n",
              "      <td>NaN</td>\n",
              "      <td>NaN</td>\n",
              "      <td>Авиалинии, авиакомпании</td>\n",
              "      <td>Возврат  покупки. ТУ СБ РФ</td>\n",
              "    </tr>\n",
              "    <tr>\n",
              "      <th>999582</th>\n",
              "      <td>89619970</td>\n",
              "      <td>104 23:39:35</td>\n",
              "      <td>3000</td>\n",
              "      <td>6000</td>\n",
              "      <td>408307.49</td>\n",
              "      <td>NaN</td>\n",
              "      <td>NaN</td>\n",
              "      <td>Авиалинии, авиакомпании</td>\n",
              "      <td>Возврат  покупки. ТУ СБ РФ</td>\n",
              "    </tr>\n",
              "    <tr>\n",
              "      <th>999583</th>\n",
              "      <td>89619970</td>\n",
              "      <td>105 23:38:49</td>\n",
              "      <td>3000</td>\n",
              "      <td>6000</td>\n",
              "      <td>204153.74</td>\n",
              "      <td>NaN</td>\n",
              "      <td>NaN</td>\n",
              "      <td>Авиалинии, авиакомпании</td>\n",
              "      <td>Возврат  покупки. ТУ СБ РФ</td>\n",
              "    </tr>\n",
              "  </tbody>\n",
              "</table>\n",
              "<p>999584 rows × 9 columns</p>\n",
              "</div>"
            ],
            "text/plain": [
              "        customer_id   tr_datetime  mcc_code  tr_type      amount term_id  \\\n",
              "0          39026145    0 10:23:26      4814     1030    -2245.92     NaN   \n",
              "1          39026145    6 07:08:31      4814     1030    -5614.79     NaN   \n",
              "2          39026145    8 07:06:10      4814     1030    -1122.96     NaN   \n",
              "3          39026145   11 08:49:03      4814     1030    -2245.92     NaN   \n",
              "4          39026145   11 14:12:08      4814     1030    -2245.92     NaN   \n",
              "...             ...           ...       ...      ...         ...     ...   \n",
              "999579     36837532   18 23:38:60      3000     6000  1297824.89     NaN   \n",
              "999580      6808459  206 19:00:10      3000     6000   124693.24     NaN   \n",
              "999581     83759123   90 22:40:57      3000     6000   218976.79     NaN   \n",
              "999582     89619970  104 23:39:35      3000     6000   408307.49     NaN   \n",
              "999583     89619970  105 23:38:49      3000     6000   204153.74     NaN   \n",
              "\n",
              "        gender                                    mcc_description  \\\n",
              "0          1.0  Звонки с использованием телефонов, считывающих...   \n",
              "1          1.0  Звонки с использованием телефонов, считывающих...   \n",
              "2          1.0  Звонки с использованием телефонов, считывающих...   \n",
              "3          1.0  Звонки с использованием телефонов, считывающих...   \n",
              "4          1.0  Звонки с использованием телефонов, считывающих...   \n",
              "...        ...                                                ...   \n",
              "999579     NaN                            Авиалинии, авиакомпании   \n",
              "999580     NaN                            Авиалинии, авиакомпании   \n",
              "999581     NaN                            Авиалинии, авиакомпании   \n",
              "999582     NaN                            Авиалинии, авиакомпании   \n",
              "999583     NaN                            Авиалинии, авиакомпании   \n",
              "\n",
              "                        tr_description  \n",
              "0       Оплата услуги. Банкоматы СБ РФ  \n",
              "1       Оплата услуги. Банкоматы СБ РФ  \n",
              "2       Оплата услуги. Банкоматы СБ РФ  \n",
              "3       Оплата услуги. Банкоматы СБ РФ  \n",
              "4       Оплата услуги. Банкоматы СБ РФ  \n",
              "...                                ...  \n",
              "999579      Возврат  покупки. ТУ СБ РФ  \n",
              "999580      Возврат  покупки. ТУ СБ РФ  \n",
              "999581      Возврат  покупки. ТУ СБ РФ  \n",
              "999582      Возврат  покупки. ТУ СБ РФ  \n",
              "999583      Возврат  покупки. ТУ СБ РФ  \n",
              "\n",
              "[999584 rows x 9 columns]"
            ]
          },
          "execution_count": 10,
          "metadata": {},
          "output_type": "execute_result"
        }
      ],
      "source": [
        "transactions_full"
      ]
    },
    {
      "cell_type": "markdown",
      "metadata": {
        "id": "8vrFauJ8QgmT"
      },
      "source": [
        "## Задание 5"
      ]
    },
    {
      "cell_type": "markdown",
      "metadata": {
        "id": "rOjEQ5xyQfE_"
      },
      "source": [
        "1. Определите модуль разницы между средними тратами женщин и мужчин (трата - отрицательное значение amount).\n",
        "2. Определите модуль разницы между средними поступлениями у мужчин и женщин\n",
        "\n",
        "Обратите внимание, что для вычисления модуля разности точных знаний о том,\n",
        "какой класc относится к мужчинам, а какой - к женщинам, не требуется."
      ]
    },
    {
      "cell_type": "code",
      "execution_count": 11,
      "metadata": {},
      "outputs": [
        {
          "data": {
            "text/plain": [
              "(32718.05492022467, 63366.57104801465)"
            ]
          },
          "execution_count": 11,
          "metadata": {},
          "output_type": "execute_result"
        }
      ],
      "source": [
        "(abs(transactions_full[(transactions_full.gender == 1) & (transactions_full.amount < 0)].amount.mean() - \n",
        "    transactions_full[(transactions_full.gender == 0) & (transactions_full.amount < 0)].amount.mean()), \n",
        "abs(transactions_full[(transactions_full.gender == 1) & (transactions_full.amount > 0)].amount.mean() - \n",
        "    transactions_full[(transactions_full.gender == 0) & (transactions_full.amount > 0)].amount.mean()))"
      ]
    },
    {
      "cell_type": "markdown",
      "metadata": {
        "id": "DSHFLbepQ7G1"
      },
      "source": [
        "## Задание 6"
      ]
    },
    {
      "cell_type": "markdown",
      "metadata": {
        "id": "2EF1490bQ-17"
      },
      "source": [
        "1. По всем типам транзакций рассчитайте максимальную сумму прихода на карту (из строго положительных сумм по столбцу amount) отдельно для мужчин и женщин (назовите ее \"max_income\"). Оставьте по 10 типов транзакций для мужчин и для женщин, наименьших среди всех типов транзакций по полученным значениям \"max_income\".\n",
        "2. Выделите среди них те типы транзакций, которые встречаются одновременно и у мужчин, и у женщин"
      ]
    },
    {
      "cell_type": "markdown",
      "metadata": {
        "id": "W-LaVwRdR3UB"
      },
      "source": [
        "## Задание 7"
      ]
    },
    {
      "cell_type": "markdown",
      "metadata": {
        "id": "rhI4NOciR7e0"
      },
      "source": [
        "1. Найдите суммы затрат по каждой категории (mcc) для мужчин и для женщин.\n",
        "2. Найдите топ 10 категорий с самыми большими относительными модулями разности в тратах для разных полов (в ответе должны присутствовать описания mcc кодов)."
      ]
    },
    {
      "cell_type": "code",
      "execution_count": 12,
      "metadata": {},
      "outputs": [
        {
          "data": {
            "text/html": [
              "<div>\n",
              "<style scoped>\n",
              "    .dataframe tbody tr th:only-of-type {\n",
              "        vertical-align: middle;\n",
              "    }\n",
              "\n",
              "    .dataframe tbody tr th {\n",
              "        vertical-align: top;\n",
              "    }\n",
              "\n",
              "    .dataframe thead th {\n",
              "        text-align: right;\n",
              "    }\n",
              "</style>\n",
              "<table border=\"1\" class=\"dataframe\">\n",
              "  <thead>\n",
              "    <tr style=\"text-align: right;\">\n",
              "      <th></th>\n",
              "      <th>mcc_code</th>\n",
              "      <th>mcc_description</th>\n",
              "      <th>diff</th>\n",
              "    </tr>\n",
              "  </thead>\n",
              "  <tbody>\n",
              "    <tr>\n",
              "      <th>0</th>\n",
              "      <td>6011</td>\n",
              "      <td>Финансовые институты — снятие наличности автом...</td>\n",
              "      <td>3.085862e+09</td>\n",
              "    </tr>\n",
              "    <tr>\n",
              "      <th>1</th>\n",
              "      <td>4829</td>\n",
              "      <td>Денежные переводы</td>\n",
              "      <td>2.499153e+09</td>\n",
              "    </tr>\n",
              "    <tr>\n",
              "      <th>2</th>\n",
              "      <td>6010</td>\n",
              "      <td>Финансовые институты — снятие наличности вручную</td>\n",
              "      <td>2.208580e+08</td>\n",
              "    </tr>\n",
              "    <tr>\n",
              "      <th>3</th>\n",
              "      <td>5541</td>\n",
              "      <td>Станции техобслуживания</td>\n",
              "      <td>1.554326e+08</td>\n",
              "    </tr>\n",
              "    <tr>\n",
              "      <th>4</th>\n",
              "      <td>5511</td>\n",
              "      <td>Легковой и грузовой транспорт — продажа, серви...</td>\n",
              "      <td>7.352877e+07</td>\n",
              "    </tr>\n",
              "    <tr>\n",
              "      <th>5</th>\n",
              "      <td>5812</td>\n",
              "      <td>Места общественного питания, рестораны</td>\n",
              "      <td>7.037856e+07</td>\n",
              "    </tr>\n",
              "    <tr>\n",
              "      <th>6</th>\n",
              "      <td>5977</td>\n",
              "      <td>Магазины косметики</td>\n",
              "      <td>4.241762e+07</td>\n",
              "    </tr>\n",
              "    <tr>\n",
              "      <th>7</th>\n",
              "      <td>5533</td>\n",
              "      <td>Автозапчасти и аксессуары</td>\n",
              "      <td>4.233808e+07</td>\n",
              "    </tr>\n",
              "    <tr>\n",
              "      <th>8</th>\n",
              "      <td>7995</td>\n",
              "      <td>Транзакции по азартным играм</td>\n",
              "      <td>4.079564e+07</td>\n",
              "    </tr>\n",
              "    <tr>\n",
              "      <th>9</th>\n",
              "      <td>5661</td>\n",
              "      <td>Обувные магазины</td>\n",
              "      <td>3.815470e+07</td>\n",
              "    </tr>\n",
              "  </tbody>\n",
              "</table>\n",
              "</div>"
            ],
            "text/plain": [
              "   mcc_code                                    mcc_description          diff\n",
              "0      6011  Финансовые институты — снятие наличности автом...  3.085862e+09\n",
              "1      4829                                  Денежные переводы  2.499153e+09\n",
              "2      6010   Финансовые институты — снятие наличности вручную  2.208580e+08\n",
              "3      5541                            Станции техобслуживания  1.554326e+08\n",
              "4      5511  Легковой и грузовой транспорт — продажа, серви...  7.352877e+07\n",
              "5      5812             Места общественного питания, рестораны  7.037856e+07\n",
              "6      5977                                 Магазины косметики  4.241762e+07\n",
              "7      5533                          Автозапчасти и аксессуары  4.233808e+07\n",
              "8      7995                       Транзакции по азартным играм  4.079564e+07\n",
              "9      5661                                   Обувные магазины  3.815470e+07"
            ]
          },
          "execution_count": 12,
          "metadata": {},
          "output_type": "execute_result"
        }
      ],
      "source": [
        "gen0_mcc = transactions_full[(transactions_full.gender == 0) & (transactions_full.amount < 0)].groupby(['mcc_code', 'mcc_description']).amount.sum()\n",
        "gen1_mcc = transactions_full[(transactions_full.gender == 1) & (transactions_full.amount < 0)].groupby(['mcc_code' ,'mcc_description']).amount.sum()\n",
        "\n",
        "res = pd.DataFrame({\n",
        "    'diff' : abs(gen0_mcc - gen1_mcc).sort_values(ascending=False).iloc[:10]\n",
        "})\n",
        "res.reset_index()"
      ]
    },
    {
      "cell_type": "markdown",
      "metadata": {
        "id": "aGaPkQkVSvl8"
      },
      "source": [
        "## Задание 8"
      ]
    },
    {
      "cell_type": "markdown",
      "metadata": {
        "id": "T7Ox1qAXTHQl"
      },
      "source": [
        "1. Из поля tr_datetime выделите час tr_hour, в который произошла транзакция, как первые 2 цифры до \":\". (\\**)\n",
        "2. Посчитайте количество транзакций с amount<0 в ночное время для мужчин и женщин. Ночное время - это примерно 00-06 часов."
      ]
    },
    {
      "cell_type": "code",
      "execution_count": 13,
      "metadata": {},
      "outputs": [
        {
          "data": {
            "text/plain": [
              "(46694, 43510)"
            ]
          },
          "execution_count": 13,
          "metadata": {},
          "output_type": "execute_result"
        }
      ],
      "source": [
        "transactions_full['tr_hour'] = transactions_full.tr_datetime.str.extract(r'^\\d+ \\b(\\d{2})').astype('int')\n",
        "(transactions_full[(transactions_full.gender == 1) & (transactions_full.tr_hour < 7) & (transactions_full.amount < 0)].shape[0],\n",
        " transactions_full[(transactions_full.gender == 0) & (transactions_full.tr_hour < 7) & (transactions_full.amount < 0)].shape[0])"
      ]
    },
    {
      "cell_type": "code",
      "execution_count": 68,
      "metadata": {},
      "outputs": [
        {
          "data": {
            "text/plain": [
              "gender\n",
              "0.0    43510\n",
              "1.0    46694\n",
              "dtype: int64"
            ]
          },
          "execution_count": 68,
          "metadata": {},
          "output_type": "execute_result"
        }
      ],
      "source": [
        "transactions_full[(transactions_full.tr_hour < 7) & (transactions_full.amount < 0)].groupby('gender').size()"
      ]
    }
  ],
  "metadata": {
    "colab": {
      "provenance": []
    },
    "hide_input": false,
    "kernelspec": {
      "display_name": "Python 3",
      "language": "python",
      "name": "python3"
    },
    "language_info": {
      "codemirror_mode": {
        "name": "ipython",
        "version": 3
      },
      "file_extension": ".py",
      "mimetype": "text/x-python",
      "name": "python",
      "nbconvert_exporter": "python",
      "pygments_lexer": "ipython3",
      "version": "3.11.5"
    },
    "toc": {
      "base_numbering": 1,
      "nav_menu": {},
      "number_sections": true,
      "sideBar": true,
      "skip_h1_title": false,
      "title_cell": "Table of Contents",
      "title_sidebar": "Contents",
      "toc_cell": true,
      "toc_position": {},
      "toc_section_display": true,
      "toc_window_display": false
    },
    "varInspector": {
      "cols": {
        "lenName": 16,
        "lenType": 16,
        "lenVar": 40
      },
      "kernels_config": {
        "python": {
          "delete_cmd_postfix": "",
          "delete_cmd_prefix": "del ",
          "library": "var_list.py",
          "varRefreshCmd": "print(var_dic_list())"
        },
        "r": {
          "delete_cmd_postfix": ") ",
          "delete_cmd_prefix": "rm(",
          "library": "var_list.r",
          "varRefreshCmd": "cat(var_dic_list()) "
        }
      },
      "types_to_exclude": [
        "module",
        "function",
        "builtin_function_or_method",
        "instance",
        "_Feature"
      ],
      "window_display": false
    }
  },
  "nbformat": 4,
  "nbformat_minor": 0
}
